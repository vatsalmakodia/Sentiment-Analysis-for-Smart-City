{
 "cells": [
  {
   "cell_type": "code",
   "execution_count": 37,
   "metadata": {},
   "outputs": [
    {
     "name": "stderr",
     "output_type": "stream",
     "text": [
      "[nltk_data] Downloading package punkt to C:\\Users\\Vatsal\n",
      "[nltk_data]     Makodia\\AppData\\Roaming\\nltk_data...\n",
      "[nltk_data]   Package punkt is already up-to-date!\n",
      "[nltk_data] Downloading package averaged_perceptron_tagger to\n",
      "[nltk_data]     C:\\Users\\Vatsal Makodia\\AppData\\Roaming\\nltk_data...\n",
      "[nltk_data]   Package averaged_perceptron_tagger is already up-to-\n",
      "[nltk_data]       date!\n",
      "[nltk_data] Downloading package maxent_ne_chunker to C:\\Users\\Vatsal\n",
      "[nltk_data]     Makodia\\AppData\\Roaming\\nltk_data...\n",
      "[nltk_data]   Package maxent_ne_chunker is already up-to-date!\n",
      "[nltk_data] Downloading package words to C:\\Users\\Vatsal\n",
      "[nltk_data]     Makodia\\AppData\\Roaming\\nltk_data...\n",
      "[nltk_data]   Package words is already up-to-date!\n"
     ]
    }
   ],
   "source": [
    "import pandas as pd\n",
    "import numpy as np\n",
    "import matplotlib.pyplot as plt\n",
    "import seaborn as sns\n",
    "import nltk\n",
    "nltk.download('punkt')\n",
    "nltk.download('averaged_perceptron_tagger')\n",
    "nltk.download('maxent_ne_chunker')\n",
    "nltk.download('words')\n",
    "from nltk.sentiment import SentimentIntensityAnalyzer\n",
    "from tqdm.notebook import tqdm\n",
    "sia = SentimentIntensityAnalyzer()"
   ]
  },
  {
   "cell_type": "code",
   "execution_count": 38,
   "metadata": {},
   "outputs": [
    {
     "name": "stdout",
     "output_type": "stream",
     "text": [
      "(76, 2)\n",
      "(76, 2)\n"
     ]
    }
   ],
   "source": [
    "plt.style.use('ggplot')\n",
    "df = pd.read_excel('Twitter_data.xlsx')\n",
    "print(df.shape)\n",
    "df = df.head(500)\n",
    "print(df.shape)"
   ]
  },
  {
   "cell_type": "code",
   "execution_count": 39,
   "metadata": {},
   "outputs": [
    {
     "data": {
      "text/plain": "   Id                                               Text\n0   1  Here at Vadodara you can feel like 20 yrs back...\n1   2  Vadodara is one of the biggest city of Gujarat...\n2   3  Very FEW International Flights in proportion t...\n3   4  Due to the authorities' incompetence, the city...\n4   5  I am no opposing the news..but the underground...",
      "text/html": "<div>\n<style scoped>\n    .dataframe tbody tr th:only-of-type {\n        vertical-align: middle;\n    }\n\n    .dataframe tbody tr th {\n        vertical-align: top;\n    }\n\n    .dataframe thead th {\n        text-align: right;\n    }\n</style>\n<table border=\"1\" class=\"dataframe\">\n  <thead>\n    <tr style=\"text-align: right;\">\n      <th></th>\n      <th>Id</th>\n      <th>Text</th>\n    </tr>\n  </thead>\n  <tbody>\n    <tr>\n      <th>0</th>\n      <td>1</td>\n      <td>Here at Vadodara you can feel like 20 yrs back...</td>\n    </tr>\n    <tr>\n      <th>1</th>\n      <td>2</td>\n      <td>Vadodara is one of the biggest city of Gujarat...</td>\n    </tr>\n    <tr>\n      <th>2</th>\n      <td>3</td>\n      <td>Very FEW International Flights in proportion t...</td>\n    </tr>\n    <tr>\n      <th>3</th>\n      <td>4</td>\n      <td>Due to the authorities' incompetence, the city...</td>\n    </tr>\n    <tr>\n      <th>4</th>\n      <td>5</td>\n      <td>I am no opposing the news..but the underground...</td>\n    </tr>\n  </tbody>\n</table>\n</div>"
     },
     "execution_count": 39,
     "metadata": {},
     "output_type": "execute_result"
    }
   ],
   "source": [
    "df.head()"
   ]
  },
  {
   "cell_type": "code",
   "execution_count": 40,
   "outputs": [
    {
     "name": "stdout",
     "output_type": "stream",
     "text": [
      "At SAHAJ - Towards Alternatives for Health and Development, Vadodara with my students.\n"
     ]
    }
   ],
   "source": [
    "# review example\n",
    "example = df['Text'][51]\n",
    "print(example)"
   ],
   "metadata": {
    "collapsed": false
   }
  },
  {
   "cell_type": "code",
   "execution_count": 41,
   "metadata": {},
   "outputs": [
    {
     "data": {
      "text/plain": "['At',\n 'SAHAJ',\n '-',\n 'Towards',\n 'Alternatives',\n 'for',\n 'Health',\n 'and',\n 'Development',\n ',',\n 'Vadodara',\n 'with',\n 'my',\n 'students',\n '.']"
     },
     "execution_count": 41,
     "metadata": {},
     "output_type": "execute_result"
    }
   ],
   "source": [
    "# tokenization - seperate the strings\n",
    "tokens = nltk.word_tokenize(example)\n",
    "tokens[0:]\n",
    "# tokens[:10]"
   ]
  },
  {
   "cell_type": "code",
   "execution_count": 42,
   "metadata": {},
   "outputs": [
    {
     "data": {
      "text/plain": "[('At', 'IN'),\n ('SAHAJ', 'NNP'),\n ('-', ':'),\n ('Towards', 'NNS'),\n ('Alternatives', 'VBZ'),\n ('for', 'IN'),\n ('Health', 'NNP'),\n ('and', 'CC'),\n ('Development', 'NNP'),\n (',', ','),\n ('Vadodara', 'NNP'),\n ('with', 'IN'),\n ('my', 'PRP$'),\n ('students', 'NNS'),\n ('.', '.')]"
     },
     "execution_count": 42,
     "metadata": {},
     "output_type": "execute_result"
    }
   ],
   "source": [
    "# part of speech tagging / abbreviation\n",
    "tagged = nltk.pos_tag(tokens)\n",
    "tagged [0:]\n",
    "# tagged[:10]"
   ]
  },
  {
   "cell_type": "code",
   "execution_count": 43,
   "metadata": {},
   "outputs": [
    {
     "name": "stdout",
     "output_type": "stream",
     "text": [
      "(S\n",
      "  At/IN\n",
      "  (ORGANIZATION SAHAJ/NNP)\n",
      "  -/:\n",
      "  (ORGANIZATION Towards/NNS Alternatives/VBZ for/IN Health/NNP)\n",
      "  and/CC\n",
      "  (ORGANIZATION Development/NNP)\n",
      "  ,/,\n",
      "  (PERSON Vadodara/NNP)\n",
      "  with/IN\n",
      "  my/PRP$\n",
      "  students/NNS\n",
      "  ./.)\n"
     ]
    }
   ],
   "source": [
    "# takes tokens and groups them into texts\n",
    "entities = nltk.chunk.ne_chunk(tagged)\n",
    "entities.pprint()"
   ]
  },
  {
   "cell_type": "code",
   "execution_count": 44,
   "metadata": {},
   "outputs": [],
   "source": [
    "from transformers import AutoTokenizer\n",
    "from transformers import AutoModelForSequenceClassification\n",
    "from scipy.special import softmax"
   ]
  },
  {
   "cell_type": "code",
   "execution_count": 45,
   "metadata": {},
   "outputs": [],
   "source": [
    "MODEL = f\"cardiffnlp/twitter-roberta-base-sentiment\"\n",
    "tokenizer = AutoTokenizer.from_pretrained(MODEL)\n",
    "model = AutoModelForSequenceClassification.from_pretrained(MODEL)"
   ]
  },
  {
   "cell_type": "code",
   "execution_count": 46,
   "metadata": {},
   "outputs": [
    {
     "name": "stdout",
     "output_type": "stream",
     "text": [
      "{'roberta_neg': 0.008931124, 'roberta_neu': 0.878608, 'roberta_pos': 0.1124609}\n"
     ]
    }
   ],
   "source": [
    "# Run for Roberta Model\n",
    "encoded_text = tokenizer(example, return_tensors='pt')\n",
    "output = model(**encoded_text)\n",
    "scores = output[0][0].detach().numpy()\n",
    "scores = softmax(scores)\n",
    "scores_dict = {\n",
    "    'roberta_neg' : scores[0],\n",
    "    'roberta_neu' : scores[1],\n",
    "    'roberta_pos' : scores[2]\n",
    "}\n",
    "print(scores_dict)"
   ]
  },
  {
   "cell_type": "code",
   "execution_count": 47,
   "metadata": {},
   "outputs": [],
   "source": [
    "def polarity_scores_roberta(example):\n",
    "    encoded_text = tokenizer(example, return_tensors='pt')\n",
    "    output = model(**encoded_text)\n",
    "    scores = output[0][0].detach().numpy()\n",
    "    scores = softmax(scores)\n",
    "    scores_dict = {\n",
    "        'roberta_neg' : scores[0],\n",
    "        'roberta_neu' : scores[1],\n",
    "        'roberta_pos' : scores[2]\n",
    "    }\n",
    "    return scores_dict"
   ]
  },
  {
   "cell_type": "code",
   "execution_count": 48,
   "metadata": {},
   "outputs": [
    {
     "data": {
      "text/plain": "  0%|          | 0/76 [00:00<?, ?it/s]",
      "application/vnd.jupyter.widget-view+json": {
       "version_major": 2,
       "version_minor": 0,
       "model_id": "92c7e594b78145278f1789541d940194"
      }
     },
     "metadata": {},
     "output_type": "display_data"
    }
   ],
   "source": [
    "res = {}\n",
    "for i, row in tqdm(df.iterrows(), total=len(df)):\n",
    "    try:\n",
    "        text = row['Text']\n",
    "        myid = row['Id']\n",
    "        vader_result = sia.polarity_scores(text)\n",
    "        vader_result_rename = {}\n",
    "        for key, value in vader_result.items():\n",
    "            vader_result_rename[f\"vader_{key}\"] = value\n",
    "        roberta_result = polarity_scores_roberta(text)\n",
    "        both = {**vader_result_rename, **roberta_result}\n",
    "        res[myid] = both\n",
    "    except RuntimeError:\n",
    "        print(f'Broke for {myid}')"
   ]
  },
  {
   "cell_type": "code",
   "execution_count": 49,
   "metadata": {},
   "outputs": [],
   "source": [
    "results_df = pd.DataFrame(res).T\n",
    "results_df = results_df.reset_index().rename(columns={'index': 'Id'})\n",
    "results_df = results_df.merge(df, how='left')"
   ]
  },
  {
   "cell_type": "code",
   "execution_count": 51,
   "metadata": {},
   "outputs": [
    {
     "data": {
      "text/plain": "    Id  vader_neg  vader_neu  vader_pos  vader_compound  roberta_neg  \\\n0    1      0.060      0.872      0.068          0.0772     0.532991   \n1    2      0.157      0.843      0.000         -0.4215     0.277604   \n2    3      0.000      1.000      0.000          0.0000     0.510086   \n3    4      0.151      0.849      0.000         -0.7506     0.952276   \n4    5      0.109      0.891      0.000         -0.2960     0.174245   \n..  ..        ...        ...        ...             ...          ...   \n71  72      0.000      0.776      0.224          0.7579     0.006586   \n72  73      0.237      0.660      0.103         -0.5688     0.934121   \n73  74      0.000      0.833      0.167          0.4215     0.183054   \n74  75      0.125      0.824      0.051         -0.6083     0.930771   \n75  76      0.121      0.879      0.000         -0.4019     0.687491   \n\n    roberta_neu  roberta_pos  \\\n0      0.433813     0.033197   \n1      0.567655     0.154741   \n2      0.453923     0.035990   \n3      0.044846     0.002879   \n4      0.757905     0.067850   \n..          ...          ...   \n71     0.318379     0.675036   \n72     0.060916     0.004963   \n73     0.634402     0.182545   \n74     0.064853     0.004375   \n75     0.292923     0.019586   \n\n                                                 Text  \n0   Here at Vadodara you can feel like 20 yrs back...  \n1   Vadodara is one of the biggest city of Gujarat...  \n2   Very FEW International Flights in proportion t...  \n3   Due to the authorities' incompetence, the city...  \n4   I am no opposing the news..but the underground...  \n..                                                ...  \n71  I think it is high time we embrace the develop...  \n72  Very much disappointed to see the progress of ...  \n73  Safety of People and public property should be...  \n74  See they gut feelings? They are warning to bur...  \n75  The 'development' in city is uprooting the his...  \n\n[76 rows x 9 columns]",
      "text/html": "<div>\n<style scoped>\n    .dataframe tbody tr th:only-of-type {\n        vertical-align: middle;\n    }\n\n    .dataframe tbody tr th {\n        vertical-align: top;\n    }\n\n    .dataframe thead th {\n        text-align: right;\n    }\n</style>\n<table border=\"1\" class=\"dataframe\">\n  <thead>\n    <tr style=\"text-align: right;\">\n      <th></th>\n      <th>Id</th>\n      <th>vader_neg</th>\n      <th>vader_neu</th>\n      <th>vader_pos</th>\n      <th>vader_compound</th>\n      <th>roberta_neg</th>\n      <th>roberta_neu</th>\n      <th>roberta_pos</th>\n      <th>Text</th>\n    </tr>\n  </thead>\n  <tbody>\n    <tr>\n      <th>0</th>\n      <td>1</td>\n      <td>0.060</td>\n      <td>0.872</td>\n      <td>0.068</td>\n      <td>0.0772</td>\n      <td>0.532991</td>\n      <td>0.433813</td>\n      <td>0.033197</td>\n      <td>Here at Vadodara you can feel like 20 yrs back...</td>\n    </tr>\n    <tr>\n      <th>1</th>\n      <td>2</td>\n      <td>0.157</td>\n      <td>0.843</td>\n      <td>0.000</td>\n      <td>-0.4215</td>\n      <td>0.277604</td>\n      <td>0.567655</td>\n      <td>0.154741</td>\n      <td>Vadodara is one of the biggest city of Gujarat...</td>\n    </tr>\n    <tr>\n      <th>2</th>\n      <td>3</td>\n      <td>0.000</td>\n      <td>1.000</td>\n      <td>0.000</td>\n      <td>0.0000</td>\n      <td>0.510086</td>\n      <td>0.453923</td>\n      <td>0.035990</td>\n      <td>Very FEW International Flights in proportion t...</td>\n    </tr>\n    <tr>\n      <th>3</th>\n      <td>4</td>\n      <td>0.151</td>\n      <td>0.849</td>\n      <td>0.000</td>\n      <td>-0.7506</td>\n      <td>0.952276</td>\n      <td>0.044846</td>\n      <td>0.002879</td>\n      <td>Due to the authorities' incompetence, the city...</td>\n    </tr>\n    <tr>\n      <th>4</th>\n      <td>5</td>\n      <td>0.109</td>\n      <td>0.891</td>\n      <td>0.000</td>\n      <td>-0.2960</td>\n      <td>0.174245</td>\n      <td>0.757905</td>\n      <td>0.067850</td>\n      <td>I am no opposing the news..but the underground...</td>\n    </tr>\n    <tr>\n      <th>...</th>\n      <td>...</td>\n      <td>...</td>\n      <td>...</td>\n      <td>...</td>\n      <td>...</td>\n      <td>...</td>\n      <td>...</td>\n      <td>...</td>\n      <td>...</td>\n    </tr>\n    <tr>\n      <th>71</th>\n      <td>72</td>\n      <td>0.000</td>\n      <td>0.776</td>\n      <td>0.224</td>\n      <td>0.7579</td>\n      <td>0.006586</td>\n      <td>0.318379</td>\n      <td>0.675036</td>\n      <td>I think it is high time we embrace the develop...</td>\n    </tr>\n    <tr>\n      <th>72</th>\n      <td>73</td>\n      <td>0.237</td>\n      <td>0.660</td>\n      <td>0.103</td>\n      <td>-0.5688</td>\n      <td>0.934121</td>\n      <td>0.060916</td>\n      <td>0.004963</td>\n      <td>Very much disappointed to see the progress of ...</td>\n    </tr>\n    <tr>\n      <th>73</th>\n      <td>74</td>\n      <td>0.000</td>\n      <td>0.833</td>\n      <td>0.167</td>\n      <td>0.4215</td>\n      <td>0.183054</td>\n      <td>0.634402</td>\n      <td>0.182545</td>\n      <td>Safety of People and public property should be...</td>\n    </tr>\n    <tr>\n      <th>74</th>\n      <td>75</td>\n      <td>0.125</td>\n      <td>0.824</td>\n      <td>0.051</td>\n      <td>-0.6083</td>\n      <td>0.930771</td>\n      <td>0.064853</td>\n      <td>0.004375</td>\n      <td>See they gut feelings? They are warning to bur...</td>\n    </tr>\n    <tr>\n      <th>75</th>\n      <td>76</td>\n      <td>0.121</td>\n      <td>0.879</td>\n      <td>0.000</td>\n      <td>-0.4019</td>\n      <td>0.687491</td>\n      <td>0.292923</td>\n      <td>0.019586</td>\n      <td>The 'development' in city is uprooting the his...</td>\n    </tr>\n  </tbody>\n</table>\n<p>76 rows × 9 columns</p>\n</div>"
     },
     "execution_count": 51,
     "metadata": {},
     "output_type": "execute_result"
    }
   ],
   "source": [
    "results_df"
   ]
  },
  {
   "cell_type": "code",
   "execution_count": 59,
   "metadata": {},
   "outputs": [
    {
     "name": "stdout",
     "output_type": "stream",
     "text": [
      "    Id                                               Text Comparison\n",
      "0    1  Here at Vadodara you can feel like 20 yrs back...   Negative\n",
      "1    2  Vadodara is one of the biggest city of Gujarat...    Neutral\n",
      "2    3  Very FEW International Flights in proportion t...   Negative\n",
      "3    4  Due to the authorities' incompetence, the city...   Negative\n",
      "4    5  I am no opposing the news..but the underground...    Neutral\n",
      "..  ..                                                ...        ...\n",
      "71  72  I think it is high time we embrace the develop...   Positive\n",
      "72  73  Very much disappointed to see the progress of ...   Negative\n",
      "73  74  Safety of People and public property should be...    Neutral\n",
      "74  75  See they gut feelings? They are warning to bur...   Negative\n",
      "75  76  The 'development' in city is uprooting the his...   Negative\n",
      "\n",
      "[76 rows x 3 columns]\n"
     ]
    }
   ],
   "source": [
    "# df = pd.DataFrame(data)\n",
    "\n",
    "# Define a function to compare the values and assign the corresponding label\n",
    "def compare_columns(row):\n",
    "    if row['roberta_neg'] > row['roberta_neu'] and row['roberta_neg'] > row['roberta_pos']:\n",
    "        return 'Negative'\n",
    "    elif row['roberta_neu'] > row['roberta_neg'] and row['roberta_neu'] > row['roberta_pos']:\n",
    "        return 'Neutral'\n",
    "    elif row['roberta_pos'] > row['roberta_neg'] and row['roberta_pos'] > row['roberta_neu']:\n",
    "        return 'Positive'\n",
    "    else:\n",
    "        return 'No maximum value'\n",
    "\n",
    "# Apply the function to each row of the DataFrame and create a new column 'Comparison'\n",
    "df['Comparison'] = results_df.apply(compare_columns, axis=1)\n",
    "\n",
    "# Display the DataFrame\n",
    "\n",
    "data = pd.DataFrame(df)\n",
    "print(df)\n",
    "df.to_csv('output.csv', index=False)"
   ]
  },
  {
   "cell_type": "code",
   "execution_count": 53,
   "outputs": [
    {
     "name": "stdout",
     "output_type": "stream",
     "text": [
      "Negative    30\n",
      "Neutral     26\n",
      "Positive    20\n",
      "Name: Comparison, dtype: int64\n"
     ]
    },
    {
     "data": {
      "text/plain": "<Figure size 640x480 with 1 Axes>",
      "image/png": "[encoded data removed]"
     },
     "metadata": {},
     "output_type": "display_data"
    }
   ],
   "source": [
    "# Calculate summary of the 'Comparison' column\n",
    "summary = df['Comparison'].value_counts()\n",
    "\n",
    "# Display the summary\n",
    "print(summary)\n",
    "\n",
    "# Plot the summary as a bar graph\n",
    "summary.plot(kind='bar')\n",
    "plt.xlabel('Comparison')\n",
    "plt.ylabel('Count')\n",
    "plt.title('Comparison Summary')\n",
    "plt.show()"
   ],
   "metadata": {
    "collapsed": false
   }
  },
  {
   "cell_type": "code",
   "execution_count": null,
   "outputs": [],
   "source": [],
   "metadata": {
    "collapsed": false
   }
  }
 ],
 "metadata": {
  "kernelspec": {
   "display_name": "Python 3 (ipykernel)",
   "language": "python",
   "name": "python3"
  },
  "language_info": {
   "codemirror_mode": {
    "name": "ipython",
    "version": 3
   },
   "file_extension": ".py",
   "mimetype": "text/x-python",
   "name": "python",
   "nbconvert_exporter": "python",
   "pygments_lexer": "ipython3",
   "version": "3.9.7"
  }
 },
 "nbformat": 4,
 "nbformat_minor": 1
}
